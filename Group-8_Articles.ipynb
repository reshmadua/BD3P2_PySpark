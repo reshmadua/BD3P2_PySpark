{
 "cells": [
  {
   "cell_type": "markdown",
   "id": "55ffa0a4",
   "metadata": {},
   "source": [
    "# Spark Assignment  - Articles"
   ]
  },
  {
   "cell_type": "markdown",
   "id": "305b5109",
   "metadata": {},
   "source": [
    "\n",
    "#### I. Extract:  Load the data<br>\n",
    "- Read data as json via spark dataframe\n",
    "\n",
    "#### II.Transform: Exploratory data analysis using spark df<br>\n",
    "- Unique Id count<br>\n",
    "- Remove the html tags column “Article_Description” and “Full_Article”<br>\n",
    "- Merge the columns “Heading”, “Article_Description” and “Full_Article” separated by space and place the merged text in a new column name “Preprocessed_Text”<br>\n",
    "- select columns Id\tPreprocessed_Text;\tArticle_Type;\tTonality;    Outlets<br>\n",
    "- new column outlet_tags based on outlet text with .com as website and rest as App<br>\n",
    "- show df<br>\n",
    "- GroupBy Article_Type, Tonality and count<br>\n",
    "\n",
    "#### III. Load: Save analysis report<br>\n",
    "- show df, save as files(TXT)\n"
   ]
  },
  {
   "cell_type": "code",
   "execution_count": 18,
   "id": "1b2fd1ef",
   "metadata": {},
   "outputs": [],
   "source": [
    "# To install Spark\n",
    "# !pip install spark"
   ]
  },
  {
   "cell_type": "code",
   "execution_count": 19,
   "id": "938a2bb1",
   "metadata": {},
   "outputs": [],
   "source": [
    "# Importing necessary libraries\n",
    "import os\n",
    "import spark\n",
    "from pyspark import SparkConf,SparkContext\n",
    "from pyspark.sql import SparkSession, types\n",
    "from pyspark.sql.types import StringType\n",
    "from pyspark.sql.functions import regexp_replace, split, explode, struct, col, concat, lit, when\n",
    "import pandas as pd"
   ]
  },
  {
   "cell_type": "code",
   "execution_count": 20,
   "id": "631d4f41",
   "metadata": {},
   "outputs": [],
   "source": [
    "# Creating a spark session\n",
    "spark = SparkSession.builder.master('local').appName('Json File').getOrCreate()"
   ]
  },
  {
   "cell_type": "markdown",
   "id": "4a1ef33f",
   "metadata": {},
   "source": [
    "### Extract: Load the data"
   ]
  },
  {
   "cell_type": "code",
   "execution_count": 21,
   "id": "d4b97f86",
   "metadata": {},
   "outputs": [
    {
     "name": "stdout",
     "output_type": "stream",
     "text": [
      "root\n",
      " |-- Article.Banner.Image: string (nullable = true)\n",
      " |-- Article.Description: string (nullable = true)\n",
      " |-- Article_Type: string (nullable = true)\n",
      " |-- Full_Article: string (nullable = true)\n",
      " |-- Heading: string (nullable = true)\n",
      " |-- Id: string (nullable = true)\n",
      " |-- Outlets: string (nullable = true)\n",
      " |-- Tonality: string (nullable = true)\n",
      "\n"
     ]
    }
   ],
   "source": [
    "# Reading JSON file into a dataframe\n",
    "df = spark.read.json(\"articles.json\", multiLine=True)\n",
    "df.printSchema()"
   ]
  },
  {
   "cell_type": "code",
   "execution_count": 22,
   "id": "fadab25c",
   "metadata": {},
   "outputs": [
    {
     "name": "stdout",
     "output_type": "stream",
     "text": [
      "+--------------------+--------------------+------------+--------------------+--------------------+--------------------+--------------------+--------+\n",
      "|Article.Banner.Image| Article.Description|Article_Type|        Full_Article|             Heading|                  Id|             Outlets|Tonality|\n",
      "+--------------------+--------------------+------------+--------------------+--------------------+--------------------+--------------------+--------+\n",
      "|                    |<p>The helicopter...|  Commercial|<p>The helicopter...|A Puzzling Maneuv...|d6995462-5e87-453...|        Essex Caller|Negative|\n",
      "|                    |<p>A year after t...|  Commercial|<p>A year after t...|Bell�s Nexus Air ...|8b05e939-a89e-454...|Aviation Week Net...|Positive|\n",
      "|http://images.tmt...|<p>Bell released ...|  Commercial|<p>Bell released ...|Bell Helicopter S...|69fcd400-bceb-425...|             TMTPost|Positive|\n",
      "|http://www.fredzo...|<p>Bell est une s...|  Commercial|<p>Bell est une s...|BELL D�VOILE LA C...|17943578-c11b-414...|            Fredzone|Positive|\n",
      "|                    |<p>It was still a...|  Commercial|<p>It was still a...|Les premiers reto...|f33c7b11-5f77-4a9...|           FrenchWeb|Positive|\n",
      "|                    |<p>The LG Signatu...|  Commercial|<p>The LG Signatu...|Highlights of CES...|142dd70c-cf18-42d...|      The Daily Star|Positive|\n",
      "|                    |<p>Le concept Vis...|  Commercial|<p>Le concept Vis...|Le Concept Vision...|f096edd3-13db-4ae...|        Eric Houguet|Positive|\n",
      "|http://upload.can...|<p>Bell recently ...|  Commercial|<p>Bell recently ...|Bell Company Anno...|f8f917ec-0cb0-4a4...|             CanNews|Positive|\n",
      "|                    |<p>Bell Helicopte...|  Commercial|<p>Bell Helicopte...|Bell Helicopter M...|1702dec7-7424-469...|        AviationPros|Positive|\n",
      "|                    |<p>Bell Helicopte...|  Commercial|<p>Bell Helicopte...|Bell Helicopter U...|1d110da1-05c7-467...|        Opulent Club|Positive|\n",
      "|                    |<p>While the rest...|  Commercial|<p>While the rest...|Bell Nexus � The ...|36380a7e-4c5f-4f9...|      OmniGeekEmpire|Positive|\n",
      "|https://www.sae.o...|<p>Bell, Safran, ...|  Commercial|<p>Bell, Safran, ...|Bell Nexus full-s...|e1902fb9-ba3e-426...|   SAE International|Positive|\n",
      "|                    |<p>The Vertical F...|  Commercial|<p>The Vertical F...|Bell Reveals Nexu...|b15a8436-45a2-48d...| Electric VTOL News�|Positive|\n",
      "|http://imagesvc.t...|<p>The 2019 CES r...|  Commercial|<p>The 2019 CES r...|Bell Reveals the ...|a13694b7-8fee-49a...|           The Drive|Positive|\n",
      "|                    |<p>Although not a...|  Commercial|<p>Although not a...|Bell says its sup...|c84d4436-243f-483...|             Driving|Positive|\n",
      "|https://www.ainon...|<p>Bell returned ...|  Commercial|<p>Bell returned ...|Bell Unveils Nexu...|965334c3-ccec-430...|Aviation Internat...|Positive|\n",
      "|                    |<p>Bell Helicopte...|  Commercial|<p>Bell Helicopte...|Bell unveils Nexu...|0178e3bb-b033-44f...|               AWuAV|Positive|\n",
      "|https://www.flyin...|<p>Traffic-hoppin...|  Commercial|<p>Traffic-hoppin...|Bell Unveils Nexu...|e6cabe53-fcb5-437...|           Flipboard|Positive|\n",
      "|                    |<p>Bell Nexus cou...|  Commercial|<p>Bell Nexus cou...|Bell�s Flying Car...|6f6396b1-bf06-4cf...|          1 News Day|Positive|\n",
      "|                    |<p>Across the way...|  Commercial|<p>Across the way...|Best of CES: Harl...|a463beea-7ee0-498...|            Electrek|Positive|\n",
      "+--------------------+--------------------+------------+--------------------+--------------------+--------------------+--------------------+--------+\n",
      "only showing top 20 rows\n",
      "\n"
     ]
    }
   ],
   "source": [
    "# To see the dataframe\n",
    "df.show()"
   ]
  },
  {
   "cell_type": "markdown",
   "id": "fb3348d3",
   "metadata": {},
   "source": [
    "### Transform: Exploratory data analysis using spark df"
   ]
  },
  {
   "cell_type": "code",
   "execution_count": 23,
   "id": "8ab45ab6",
   "metadata": {
    "scrolled": false
   },
   "outputs": [
    {
     "name": "stdout",
     "output_type": "stream",
     "text": [
      "Unique number of ids present:  4305\n"
     ]
    }
   ],
   "source": [
    "## Q1. Unique ID count\n",
    "print('Unique number of ids present: ',df.select('Id').distinct().count())"
   ]
  },
  {
   "cell_type": "code",
   "execution_count": 24,
   "id": "443fc5ad",
   "metadata": {},
   "outputs": [
    {
     "name": "stdout",
     "output_type": "stream",
     "text": [
      "root\n",
      " |-- Article.Banner.Image: string (nullable = true)\n",
      " |-- Article_Description: string (nullable = true)\n",
      " |-- Article_Type: string (nullable = true)\n",
      " |-- Full_Article: string (nullable = true)\n",
      " |-- Heading: string (nullable = true)\n",
      " |-- Id: string (nullable = true)\n",
      " |-- Outlets: string (nullable = true)\n",
      " |-- Tonality: string (nullable = true)\n",
      "\n"
     ]
    }
   ],
   "source": [
    "# Changing the name of the column to avoid errors\n",
    "df = df.withColumnRenamed('Article.Description','Article_Description')\n",
    "df.printSchema()"
   ]
  },
  {
   "cell_type": "code",
   "execution_count": 25,
   "id": "1fb75dc9",
   "metadata": {},
   "outputs": [
    {
     "name": "stdout",
     "output_type": "stream",
     "text": [
      "+--------------------+--------------------+------------+--------------------+--------------------+--------------------+--------------------+--------+\n",
      "|Article.Banner.Image| Article_Description|Article_Type|        Full_Article|             Heading|                  Id|             Outlets|Tonality|\n",
      "+--------------------+--------------------+------------+--------------------+--------------------+--------------------+--------------------+--------+\n",
      "|                    |The helicoter tha...|  Commercial|The helicoter tha...|A Puzzling Maneuv...|d6995462-5e87-453...|        Essex Caller|Negative|\n",
      "|                    |A year after teai...|  Commercial|A year after teai...|Bell�s Nexus Air ...|8b05e939-a89e-454...|Aviation Week Net...|Positive|\n",
      "|http://images.tmt...|Bell releaed the ...|  Commercial|Bell releaed the ...|Bell Helicopter S...|69fcd400-bceb-425...|             TMTPost|Positive|\n",
      "|http://www.fredzo...|Bell et ue ocieac...|  Commercial|Bell et ue ocieac...|BELL D�VOILE LA C...|17943578-c11b-414...|            Fredzone|Positive|\n",
      "|                    |It wa till aecdot...|  Commercial|It wa till aecdot...|Les premiers reto...|f33c7b11-5f77-4a9...|           FrenchWeb|Positive|\n",
      "|                    |The LG Sigature O...|  Commercial|The LG Sigature O...|Highlights of CES...|142dd70c-cf18-42d...|      The Daily Star|Positive|\n",
      "|                    |Le cocet Viio Ura...|  Commercial|Le cocet Viio Ura...|Le Concept Vision...|f096edd3-13db-4ae...|        Eric Houguet|Positive|\n",
      "|http://upload.can...|Bell recetly aouc...|  Commercial|Bell recetly aouc...|Bell Company Anno...|f8f917ec-0cb0-4a4...|             CanNews|Positive|\n",
      "|                    |Bell Helicoter, a...|  Commercial|Bell Helicoter, a...|Bell Helicopter M...|1702dec7-7424-469...|        AviationPros|Positive|\n",
      "|                    |Bell Helicoter ha...|  Commercial|Bell Helicoter ha...|Bell Helicopter U...|1d110da1-05c7-467...|        Opulent Club|Positive|\n",
      "|                    |While the ret of ...|  Commercial|While the ret of ...|Bell Nexus � The ...|36380a7e-4c5f-4f9...|      OmniGeekEmpire|Positive|\n",
      "|https://www.sae.o...|Bell, Safra, EPS,...|  Commercial|Bell, Safra, EPS,...|Bell Nexus full-s...|e1902fb9-ba3e-426...|   SAE International|Positive|\n",
      "|                    |The Vertical Flig...|  Commercial|The Vertical Flig...|Bell Reveals Nexu...|b15a8436-45a2-48d...| Electric VTOL News�|Positive|\n",
      "|http://imagesvc.t...|The 2019 CES reve...|  Commercial|The 2019 CES reve...|Bell Reveals the ...|a13694b7-8fee-49a...|           The Drive|Positive|\n",
      "|                    |Although ot a car...|  Commercial|Although ot a car...|Bell says its sup...|c84d4436-243f-483...|             Driving|Positive|\n",
      "|https://www.ainon...|Bell retured thi ...|  Commercial|Bell retured thi ...|Bell Unveils Nexu...|965334c3-ccec-430...|Aviation Internat...|Positive|\n",
      "|                    |Bell Helicoter, a...|  Commercial|Bell Helicoter, a...|Bell unveils Nexu...|0178e3bb-b033-44f...|               AWuAV|Positive|\n",
      "|https://www.flyin...|Traffic-hoig eVTO...|  Commercial|Traffic-hoig eVTO...|Bell Unveils Nexu...|e6cabe53-fcb5-437...|           Flipboard|Positive|\n",
      "|                    |Bell Nexu could e...|  Commercial|Bell Nexu could e...|Bell�s Flying Car...|6f6396b1-bf06-4cf...|          1 News Day|Positive|\n",
      "|                    |Acro the way howe...|  Commercial|Acro the way howe...|Best of CES: Harl...|a463beea-7ee0-498...|            Electrek|Positive|\n",
      "+--------------------+--------------------+------------+--------------------+--------------------+--------------------+--------------------+--------+\n",
      "only showing top 20 rows\n",
      "\n"
     ]
    }
   ],
   "source": [
    "## Q2. Function to remove the html tags from column “Article_Description” and “Full_Article”\n",
    "\n",
    "def remove_html(df,colname):\n",
    "    df = df.withColumn(colname, regexp_replace(colname,\"[<p></p>&nbs]\",\"\"))\n",
    "    return df\n",
    "\n",
    "df = remove_html(df,'Article_Description')\n",
    "df = remove_html(df,'Full_Article')\n",
    "\n",
    "# To see if the tags are removed\n",
    "df.show()"
   ]
  },
  {
   "cell_type": "code",
   "execution_count": 26,
   "id": "b3b36958",
   "metadata": {},
   "outputs": [
    {
     "name": "stdout",
     "output_type": "stream",
     "text": [
      "root\n",
      " |-- Article.Banner.Image: string (nullable = true)\n",
      " |-- Article_Description: string (nullable = true)\n",
      " |-- Article_Type: string (nullable = true)\n",
      " |-- Full_Article: string (nullable = true)\n",
      " |-- Heading: string (nullable = true)\n",
      " |-- Id: string (nullable = true)\n",
      " |-- Outlets: string (nullable = true)\n",
      " |-- Tonality: string (nullable = true)\n",
      " |-- Preprocessed_Text: string (nullable = true)\n",
      "\n"
     ]
    }
   ],
   "source": [
    "## Q3. Merge the columns “Heading”, “Article_Description” and “Full_Article” separated by space and place the merged text in a new column name “Preprocessed_Text”\n",
    "\n",
    "def col_combine(df, lst, colname):\n",
    "    return df.withColumn(colname, concat(col(lst[0]), lit(\" \"), col(lst[1]), lit(\" \"), col(lst[2])))\n",
    "lst_cols = ['Heading', 'Article_Description', 'Full_Article']\n",
    "df = col_combine(df, lst_cols, 'Preprocessed_Text')\n",
    "df.printSchema()"
   ]
  },
  {
   "cell_type": "code",
   "execution_count": 27,
   "id": "5381d58f",
   "metadata": {
    "scrolled": true
   },
   "outputs": [
    {
     "data": {
      "text/plain": [
       "Row(Preprocessed_Text='A Puzzling Maneuver, Then Freefall: NTSB Report Provides New Details in Southeast Alaska Helicopter Crash That Killed 3 The helicoter that crahed i Southeat Alaka i late Setemer, killig three eole, etered a 500-foot freefall efore droig to a Glacier Bay Natioal Park each, accordig to y the Natioal Traortatio Safety Board. The relimiary NTSB reort releaed Friday offer o official roale caue. That determiatio wolquo;t e made util ext year at the earliet. The helicoter that crahed i Southeat Alaka i late Setemer, killig three eole, etered a 500-foot freefall efore droig to a Glacier Bay Natioal Park each, accordig to y the Natioal Traortatio Safety Board.;The relimiary NTSB reort releaed Friday offer o official roale caue. That determiatio wolquo;t e made util ext year at the earliet.')"
      ]
     },
     "execution_count": 27,
     "metadata": {},
     "output_type": "execute_result"
    }
   ],
   "source": [
    "# Checking the first record to see the transformation\n",
    "df.select('Preprocessed_Text').collect()[0]"
   ]
  },
  {
   "cell_type": "code",
   "execution_count": 28,
   "id": "8ef06299",
   "metadata": {
    "scrolled": false
   },
   "outputs": [
    {
     "name": "stdout",
     "output_type": "stream",
     "text": [
      "root\n",
      " |-- Id: string (nullable = true)\n",
      " |-- Preprocessed_Text: string (nullable = true)\n",
      " |-- Article_Type: string (nullable = true)\n",
      " |-- Tonality: string (nullable = true)\n",
      " |-- Outlets: string (nullable = true)\n",
      "\n"
     ]
    }
   ],
   "source": [
    "## Q4. Select columns :  Id, Preprocessed_Text, Article_Type, Tonality outlet\n",
    "clean_df = df.select('Id', 'Preprocessed_Text', 'Article_Type', 'Tonality', 'Outlets')\n",
    "clean_df.printSchema()"
   ]
  },
  {
   "cell_type": "code",
   "execution_count": 29,
   "id": "8bf63e52",
   "metadata": {},
   "outputs": [
    {
     "name": "stdout",
     "output_type": "stream",
     "text": [
      "+--------------------+--------------------+------------+--------+--------------------+-----------+\n",
      "|                  Id|   Preprocessed_Text|Article_Type|Tonality|             Outlets|outlet_tags|\n",
      "+--------------------+--------------------+------------+--------+--------------------+-----------+\n",
      "|d6995462-5e87-453...|A Puzzling Maneuv...|  Commercial|Negative|        Essex Caller|        app|\n",
      "|8b05e939-a89e-454...|Bell�s Nexus Air ...|  Commercial|Positive|Aviation Week Net...|        app|\n",
      "|69fcd400-bceb-425...|Bell Helicopter S...|  Commercial|Positive|             TMTPost|        app|\n",
      "|17943578-c11b-414...|BELL D�VOILE LA C...|  Commercial|Positive|            Fredzone|        app|\n",
      "|f33c7b11-5f77-4a9...|Les premiers reto...|  Commercial|Positive|           FrenchWeb|        app|\n",
      "|142dd70c-cf18-42d...|Highlights of CES...|  Commercial|Positive|      The Daily Star|        app|\n",
      "|f096edd3-13db-4ae...|Le Concept Vision...|  Commercial|Positive|        Eric Houguet|        app|\n",
      "|f8f917ec-0cb0-4a4...|Bell Company Anno...|  Commercial|Positive|             CanNews|        app|\n",
      "|1702dec7-7424-469...|Bell Helicopter M...|  Commercial|Positive|        AviationPros|        app|\n",
      "|1d110da1-05c7-467...|Bell Helicopter U...|  Commercial|Positive|        Opulent Club|        app|\n",
      "|36380a7e-4c5f-4f9...|Bell Nexus � The ...|  Commercial|Positive|      OmniGeekEmpire|        app|\n",
      "|e1902fb9-ba3e-426...|Bell Nexus full-s...|  Commercial|Positive|   SAE International|        app|\n",
      "|b15a8436-45a2-48d...|Bell Reveals Nexu...|  Commercial|Positive| Electric VTOL News�|        app|\n",
      "|a13694b7-8fee-49a...|Bell Reveals the ...|  Commercial|Positive|           The Drive|        app|\n",
      "|c84d4436-243f-483...|Bell says its sup...|  Commercial|Positive|             Driving|        app|\n",
      "|965334c3-ccec-430...|Bell Unveils Nexu...|  Commercial|Positive|Aviation Internat...|        app|\n",
      "|0178e3bb-b033-44f...|Bell unveils Nexu...|  Commercial|Positive|               AWuAV|        app|\n",
      "|e6cabe53-fcb5-437...|Bell Unveils Nexu...|  Commercial|Positive|           Flipboard|        app|\n",
      "|6f6396b1-bf06-4cf...|Bell�s Flying Car...|  Commercial|Positive|          1 News Day|        app|\n",
      "|a463beea-7ee0-498...|Best of CES: Harl...|  Commercial|Positive|            Electrek|        app|\n",
      "+--------------------+--------------------+------------+--------+--------------------+-----------+\n",
      "only showing top 20 rows\n",
      "\n"
     ]
    }
   ],
   "source": [
    "## Q5. Creating new column outlet_tags based on outlet text with .com as website and rest as App\n",
    "clean_df = clean_df.withColumn('outlet_tags', when(clean_df.Outlets.like('%.%'), \\\n",
    "                                        lit('website')).otherwise(lit('app')))\n",
    "\n",
    "## Q6. Show Dataframe\n",
    "clean_df.show()"
   ]
  },
  {
   "cell_type": "code",
   "execution_count": 30,
   "id": "52207b58",
   "metadata": {
    "scrolled": false
   },
   "outputs": [
    {
     "name": "stdout",
     "output_type": "stream",
     "text": [
      "+------------------+--------+-----+\n",
      "|      Article_Type|Tonality|count|\n",
      "+------------------+--------+-----+\n",
      "|          Training|Positive|    2|\n",
      "|         Financing| Neutral|    1|\n",
      "|          Military| Neutral|  178|\n",
      "|          Military|        |  185|\n",
      "|          Military|Negative|   53|\n",
      "|Support & Services|Positive|   26|\n",
      "|            Others|Positive|   45|\n",
      "|            Others| Neutral|    7|\n",
      "|          Training|        |    4|\n",
      "|          Military|Positive| 1261|\n",
      "|        Executives|        |    6|\n",
      "|         Financing|        |    2|\n",
      "|        Commercial| Neutral|   68|\n",
      "|        Commercial|        |  235|\n",
      "|         Financing|Positive|    6|\n",
      "|        Commercial|Negative|  278|\n",
      "|        Commercial|Positive| 1889|\n",
      "|        Executives|Positive|   57|\n",
      "|        Executives| Neutral|    2|\n",
      "+------------------+--------+-----+\n",
      "\n"
     ]
    }
   ],
   "source": [
    "## Q7. GroupBy Article_Type, Tonality and count\n",
    "file = clean_df.groupBy('Article_Type', 'Tonality').count()\n",
    "file.show()"
   ]
  },
  {
   "cell_type": "markdown",
   "id": "d978bcfd",
   "metadata": {},
   "source": [
    "### Load: Save analysis report"
   ]
  },
  {
   "cell_type": "code",
   "execution_count": 31,
   "id": "f0e099d1",
   "metadata": {
    "scrolled": true
   },
   "outputs": [
    {
     "name": "stdout",
     "output_type": "stream",
     "text": [
      "Successfully saved at  D:\\M.Sc BDA\\Coding\\BD3P#\\BD3P2_PySpark\n"
     ]
    }
   ],
   "source": [
    "file = file.toPandas()\n",
    "file.to_csv('Output.txt', index=False)\n",
    "print('Successfully saved at ',os.getcwd())"
   ]
  }
 ],
 "metadata": {
  "kernelspec": {
   "display_name": "Python 3",
   "language": "python",
   "name": "python3"
  },
  "language_info": {
   "codemirror_mode": {
    "name": "ipython",
    "version": 3
   },
   "file_extension": ".py",
   "mimetype": "text/x-python",
   "name": "python",
   "nbconvert_exporter": "python",
   "pygments_lexer": "ipython3",
   "version": "3.8.8"
  }
 },
 "nbformat": 4,
 "nbformat_minor": 5
}
